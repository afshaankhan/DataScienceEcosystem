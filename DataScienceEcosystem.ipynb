{
 "cells": [
  {
   "cell_type": "markdown",
   "id": "640f3a32-7f96-47d0-aeb6-7561713e7770",
   "metadata": {},
   "source": [
    "# Data Science Tools and Ecosystem"
   ]
  },
  {
   "cell_type": "markdown",
   "id": "47493f1a-7170-472f-9892-7d3137a3c90a",
   "metadata": {},
   "source": [
    "In this notebook, Data Science Tools and Ecosystem are summarized."
   ]
  },
  {
   "cell_type": "markdown",
   "id": "04de7e2e-67ff-46f4-a0d2-c24ce3ca8816",
   "metadata": {},
   "source": [
    "**Objectives:**\n",
    "\n",
    "- List popular languages for Data Science.\n",
    "- Explain the concept of version control.\n",
    "- Describe the use of repositories in collaborative projects.\n",
    "- Demonstrate how to convert minutes to hours using Python.\n",
    "- Create a table in markdown showcasing different Data Science tools."
   ]
  },
  {
   "cell_type": "markdown",
   "id": "8c899fba-0798-44f9-8bce-6dc0ddf92155",
   "metadata": {},
   "source": [
    "Some of the popular languages that Data Scientists use are:"
   ]
  },
  {
   "cell_type": "markdown",
   "id": "95d13f0c-634b-45bc-91c0-b72b77f6dc1c",
   "metadata": {},
   "source": [
    "1. python \n",
    "2. R\n",
    "3. Scala\n",
    "4. Java\n",
    "5. Julia\n",
    "6. SQL\n",
    "7. Ruby\n",
    "8. C++\n",
    "9. php\n",
    "10. Go"
   ]
  },
  {
   "cell_type": "markdown",
   "id": "4cb077d3-f873-4443-916c-6eaf0c9e5132",
   "metadata": {},
   "source": [
    "Some of the commonly used libraries used by Data Scientists include:"
   ]
  },
  {
   "cell_type": "markdown",
   "id": "49dff9ff-40ab-4727-bf41-8333480ddc39",
   "metadata": {},
   "source": [
    "1. Pandas\n",
    "2. NumPy\n",
    "3. Matplotlib\n",
    "4. seaborn\n",
    "5. Scikit-learn\n",
    "6. Keras\n",
    "7. TensorFlow\n",
    "8. PyTorch\n",
    "9. ggplot2\n",
    "10. BigDL"
   ]
  },
  {
   "cell_type": "markdown",
   "id": "c1f91c68-be9e-468e-8620-0127005d5490",
   "metadata": {},
   "source": [
    "| Data Science Tools |\n",
    "|--------------------|\n",
    "| Jupyter Notebook   |\n",
    "| RStudio            |\n",
    "| Apache Zeppelin    |\n",
    "| MySQL              |\n",
    "| postgreSQL         |\n"
   ]
  },
  {
   "cell_type": "markdown",
   "id": "a80739a5-5b84-4c1b-b0d9-a919df29be1d",
   "metadata": {},
   "source": [
    "### Below are a few examples of evaluating arithmetic expressions in Python"
   ]
  },
  {
   "cell_type": "code",
   "execution_count": 6,
   "id": "d01f0f77-1ca3-42c4-8801-c3333125eba4",
   "metadata": {
    "tags": []
   },
   "outputs": [
    {
     "data": {
      "text/plain": [
       "17"
      ]
     },
     "execution_count": 6,
     "metadata": {},
     "output_type": "execute_result"
    }
   ],
   "source": [
    "# This a simple arithmetic expression to mutiply then add integers\n",
    "(3*4)+5"
   ]
  },
  {
   "cell_type": "code",
   "execution_count": 7,
   "id": "0caeb3b4-1d9a-49ec-8070-ebf56f7ff4b0",
   "metadata": {
    "tags": []
   },
   "outputs": [
    {
     "name": "stdout",
     "output_type": "stream",
     "text": [
      "3.3333333333333335\n"
     ]
    }
   ],
   "source": [
    "# This will convert 200 minutes to hours by dividing by 60\n",
    "minutes = 200\n",
    "hours = minutes / 60\n",
    "print(hours)"
   ]
  },
  {
   "cell_type": "markdown",
   "id": "85a4efa9-bab5-4db5-9d6d-1dab275549de",
   "metadata": {},
   "source": [
    "## Author"
   ]
  },
  {
   "cell_type": "markdown",
   "id": "514c4b3e-7c94-411f-9dd9-1ec00cf1fe4e",
   "metadata": {},
   "source": [
    "Afshaan Khan"
   ]
  },
  {
   "cell_type": "code",
   "execution_count": null,
   "id": "25f8c6b2-f3e8-4894-b23b-9e361f82d8af",
   "metadata": {},
   "outputs": [],
   "source": []
  }
 ],
 "metadata": {
  "kernelspec": {
   "display_name": "Python",
   "language": "python",
   "name": "conda-env-python-py"
  },
  "language_info": {
   "codemirror_mode": {
    "name": "ipython",
    "version": 3
   },
   "file_extension": ".py",
   "mimetype": "text/x-python",
   "name": "python",
   "nbconvert_exporter": "python",
   "pygments_lexer": "ipython3",
   "version": "3.7.12"
  }
 },
 "nbformat": 4,
 "nbformat_minor": 5
}
